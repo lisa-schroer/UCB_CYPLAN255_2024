{
 "cells": [
  {
   "cell_type": "markdown",
   "id": "750dbef1",
   "metadata": {},
   "source": [
    "# Exploratory Data Analysis for Final Project"
   ]
  },
  {
   "cell_type": "raw",
   "id": "f6a6f826",
   "metadata": {},
   "source": [
    "# In this assignment, your task is to put your new skils to use in the form of an open-ended, exploratory data analysis. In particular, I'm looking for you to demonstrate your ability to use the programmatic tools we've been learning to access data, manipulate it, and visualize some findings while working towards the ultimate goal of developing a final project proposal. Please include the following in your assignment:\n",
    "\n",
    "  1. A brief summary of the topic (a few sentences)\n",
    "  2. Access 2 or more datasets, at least one of them using an API (if you are not using any data from an API as part of your project yet, don’t worry about it, and just do this to get some exercise using APIs. You might use it later).\n",
    "  3. Demonstrate the use of Pandas operations to filter out missing data and/or outliers.\n",
    "  4. Demonstrate your capacity to use some of the \"group-by\" operations to produce pivot tables or statistical summaries of your data.\n",
    "  5. Use Matplotlib or Seaborn to produce 2-3 data visualizations of your data to both explore the data and highlight any notable patterns.\n",
    "  6. Include a short written analysis of your interpretation of the data.\n",
    "  7. In a few paragraphs, describe the research question you intend to investigate in your final project, and the plan for the data analysis you intend to perform.\n",
    "\n",
    "Note that this exercise is intended to help you formulate your project topic. But it is not a binding contract. Your project will most likely evolve over the rest of the semester. So use this as an opportunity to be creative, throw some ideas against the wall and see what sticks. I will release the final project guidelines shortly. In the meantime, dig in!\n",
    "\n",
    "And as always, please submit this assignment both as a PR on GitHub along with the URL of your PR on bCourses."
   ]
  },
  {
   "cell_type": "code",
   "execution_count": null,
   "id": "32f12603",
   "metadata": {
    "slideshow": {
     "slide_type": "slide"
    }
   },
   "outputs": [],
   "source": [
    "## 1. A Brief Summary of the Topic and 7. Describe the Research Question / Plan for Data Analysis:\n",
    "##\n",
    "## For my final project, I will use UC Berkeley's Transportation Injury Mapping System (TIMS) dataset to map the\n",
    "## locations of bike and pedestrian collisions in the City of Oakland over a five year period. I plan to use two\n",
    "## additional datasets (2022 5-year ACS at the census tract level and open street map roadways) to understand:\n",
    "##      A) the demographic make-up of neighborhoods in Oakland that experience higher rates of bike and pedestrian\n",
    "##         collisions\n",
    "##      B) the street design characteristics of high frequency collision locations (are speed limits, number of lanes, intersections,\n",
    "##         presence of a bike facility, or proximity to highway off-ramps a predictor of bike and pedestrian collisions?)\n",
    "\n",
    "\n",
    "## My data analysis will consist of three parts:\n",
    "## 1.) Quick snap shot of the data during the study period including a bar chart of collision counts each year, a pie chart\n",
    "## of collision severity, and summaries of bike and pedestrian collision victim demographics (age, gender, etc).\n",
    "## 2.) Geocode bike and pedestrian collisions and summarize at the census tract level. When normalizing by population,\n",
    "## are some neighborhoods experiencing higher rates of bike and pedestrian collisions than others? What are the demographic\n",
    "## characteristics of neighborhoods in Oakland where there are more collisions?\n",
    "## 3.) Use open street map data to understand street design elements of collision hot spots. This part of the analysis will\n",
    "## involve geocoding collisions, then buffering open street map roadway edges to understand where collision densities are \n",
    "## occuring on the network. From there, I will try to identify which roadway characteristics are the most common. For example\n",
    "## my hypothesis is that bike and pedestrian collisions occur more frequently at intersections and on arterial roadways\n",
    "## with high speed limits, > 2 travel lanes, and no bike facility. My idea, though maybe too ambitious, is to understand\n",
    "## where in Oakland might we be able to predict bike and pedestrian collisions before they happen.\n",
    "\n",
    "## I'm not sure if my proposal here is too ambitious given the timeline, however, my main goal is to create a helpful\n",
    "## summary of bike and pedestrian collision history for a city that enables active transportation planners to more\n",
    "## easily write existing conditions chapters in active transportation plans or collision history sections of atp grants.\n",
    "## I'm hoping to take the existing summary that TIMS provides on their website a step further by pulling out interesting\n",
    "## information that more directly ties to the development of bike and pedestrian infrastructure recommendations."
   ]
  },
  {
   "cell_type": "code",
   "execution_count": 11,
   "id": "3d7ef87e",
   "metadata": {},
   "outputs": [
    {
     "data": {
      "text/html": [
       "<div>\n",
       "<style scoped>\n",
       "    .dataframe tbody tr th:only-of-type {\n",
       "        vertical-align: middle;\n",
       "    }\n",
       "\n",
       "    .dataframe tbody tr th {\n",
       "        vertical-align: top;\n",
       "    }\n",
       "\n",
       "    .dataframe thead th {\n",
       "        text-align: right;\n",
       "    }\n",
       "</style>\n",
       "<table border=\"1\" class=\"dataframe\">\n",
       "  <thead>\n",
       "    <tr style=\"text-align: right;\">\n",
       "      <th></th>\n",
       "      <th>0</th>\n",
       "      <th>1</th>\n",
       "      <th>2</th>\n",
       "      <th>3</th>\n",
       "      <th>4</th>\n",
       "    </tr>\n",
       "  </thead>\n",
       "  <tbody>\n",
       "    <tr>\n",
       "      <th>0</th>\n",
       "      <td>NAME</td>\n",
       "      <td>B19013_001E</td>\n",
       "      <td>state</td>\n",
       "      <td>county</td>\n",
       "      <td>tract</td>\n",
       "    </tr>\n",
       "    <tr>\n",
       "      <th>1</th>\n",
       "      <td>Census Tract 4001; Alameda County; California</td>\n",
       "      <td>234236</td>\n",
       "      <td>06</td>\n",
       "      <td>001</td>\n",
       "      <td>400100</td>\n",
       "    </tr>\n",
       "    <tr>\n",
       "      <th>2</th>\n",
       "      <td>Census Tract 4002; Alameda County; California</td>\n",
       "      <td>225500</td>\n",
       "      <td>06</td>\n",
       "      <td>001</td>\n",
       "      <td>400200</td>\n",
       "    </tr>\n",
       "    <tr>\n",
       "      <th>3</th>\n",
       "      <td>Census Tract 4003; Alameda County; California</td>\n",
       "      <td>164000</td>\n",
       "      <td>06</td>\n",
       "      <td>001</td>\n",
       "      <td>400300</td>\n",
       "    </tr>\n",
       "    <tr>\n",
       "      <th>4</th>\n",
       "      <td>Census Tract 4004; Alameda County; California</td>\n",
       "      <td>158836</td>\n",
       "      <td>06</td>\n",
       "      <td>001</td>\n",
       "      <td>400400</td>\n",
       "    </tr>\n",
       "  </tbody>\n",
       "</table>\n",
       "</div>"
      ],
      "text/plain": [
       "                                               0            1      2       3  \\\n",
       "0                                           NAME  B19013_001E  state  county   \n",
       "1  Census Tract 4001; Alameda County; California       234236     06     001   \n",
       "2  Census Tract 4002; Alameda County; California       225500     06     001   \n",
       "3  Census Tract 4003; Alameda County; California       164000     06     001   \n",
       "4  Census Tract 4004; Alameda County; California       158836     06     001   \n",
       "\n",
       "        4  \n",
       "0   tract  \n",
       "1  400100  \n",
       "2  400200  \n",
       "3  400300  \n",
       "4  400400  "
      ]
     },
     "execution_count": 11,
     "metadata": {},
     "output_type": "execute_result"
    }
   ],
   "source": [
    "## 2. Access Two or More Data Sets\n",
    "\n",
    "## Dataset 1: TIMS\n",
    "## From the TIMS website, I queried all bike and pedestrian collisions that occured in the City of Oakland between\n",
    "## 2018 and 2022.\n",
    "import pandas as pd\n",
    "tims = pd.read_csv('assignment_4_data/Crashes.csv')\n",
    "tims.head()\n",
    "\n",
    "## Dataset 2: US Census ACS 5-year\n",
    "import requests\n",
    "import json\n",
    "endpoint_url = 'https://api.census.gov/data/2022/acs/acs5?get=NAME,B19013_001E&for=tract:*&in=state:06+county:001&key=d64e2b1b465e55166c9c5df968bf2c2df503c7b6'\n",
    "pd.read_json(endpoint_url).head()"
   ]
  },
  {
   "cell_type": "code",
   "execution_count": 17,
   "id": "c53feaab",
   "metadata": {},
   "outputs": [
    {
     "data": {
      "text/plain": [
       "1980"
      ]
     },
     "execution_count": 17,
     "metadata": {},
     "output_type": "execute_result"
    }
   ],
   "source": [
    "## 3. Demonstrate the use of Pandas operations to filter out missing data and/or outliers.\n",
    "\n",
    "len(tims.index)\n",
    "\n",
    "tims_for_geocode = tims[tims['POINT_X'].notna()]\n",
    "len(tims_for_geocode)\n",
    "\n",
    "## NOTE: after viewing the data, I'm realizing that there are four geography columns (lat/Long and Point_X/Point_Y)\n",
    "## I will need to combine these into two columns rather than simply removing NULL values\n"
   ]
  },
  {
   "cell_type": "code",
   "execution_count": 23,
   "id": "6653c716",
   "metadata": {},
   "outputs": [
    {
     "data": {
      "text/plain": [
       "COLLISION_SEVERITY\n",
       "1      61\n",
       "2     227\n",
       "3     547\n",
       "4    1145\n",
       "dtype: int64"
      ]
     },
     "execution_count": 23,
     "metadata": {},
     "output_type": "execute_result"
    }
   ],
   "source": [
    "## 4. Demonstrate your capacity to use some of the \"group-by\" operations to produce pivot tables or\n",
    "## statistical summaries of your data.\n",
    "\n",
    "collision_severity = tims_for_geocode.groupby('COLLISION_SEVERITY').size()\n",
    "collision_severity.head()\n"
   ]
  },
  {
   "cell_type": "code",
   "execution_count": 29,
   "id": "1c15f1c7",
   "metadata": {},
   "outputs": [
    {
     "data": {
      "image/png": "[encoded data removed]",
      "text/plain": [
       "<Figure size 640x480 with 1 Axes>"
      ]
     },
     "metadata": {},
     "output_type": "display_data"
    }
   ],
   "source": [
    "## 5. Use Matplotlib or Seaborn to produce 2-3 data visualizations of your data to both explore the data\n",
    "## and highlight any notable patterns.\n",
    "\n",
    "\n",
    "## Pie Chart of Collision Severity\n",
    "from matplotlib import pyplot as plt\n",
    "import seaborn as sns\n",
    "import numpy as np\n",
    "\n",
    "severity_labels = ['Fatal', 'Injury (Severe)', 'Injury (Other Visible)', 'Injury (Complaint of Pain)']\n",
    "\n",
    "plt.pie(collision_severity, labels = severity_labels, autopct = '%1.1f%%')\n",
    "plt.show()"
   ]
  },
  {
   "cell_type": "code",
   "execution_count": 48,
   "id": "c0a91bc9",
   "metadata": {},
   "outputs": [
    {
     "data": {
      "text/plain": [
       "<Axes: xlabel='VICTIM_SEX', ylabel='count'>"
      ]
     },
     "execution_count": 48,
     "metadata": {},
     "output_type": "execute_result"
    },
    {
     "data": {
      "image/png": "[encoded data removed]",
      "text/plain": [
       "<Figure size 640x480 with 1 Axes>"
      ]
     },
     "metadata": {},
     "output_type": "display_data"
    }
   ],
   "source": [
    "## Bar Chart of Collisions by Gender\n",
    "\n",
    "victims = pd.read_csv('assignment_4_data/Victims.csv')\n",
    "\n",
    "\n",
    "sns.countplot(data = victims, x= 'VICTIM_SEX')\n"
   ]
  },
  {
   "cell_type": "code",
   "execution_count": null,
   "id": "1e136d1d",
   "metadata": {},
   "outputs": [],
   "source": [
    "## 6. Include a short written analysis of your interpretation of the data.\n",
    "\n",
    "## The pie chart above shows the percentage of each collision severity type during the five year study period.\n",
    "## The majority of bike and pedestrian collisions (57%) resulted in injury (complaint of pain). 3.1% of all bike\n",
    "## and pedestrian collisions resulted in a fatality.\n",
    "## \n",
    "## The bar chart above shows bike and pedestrian collision counts by gender. During the five year study period,\n",
    "## men outnumbered women in reported collision invovlement."
   ]
  },
  {
   "cell_type": "code",
   "execution_count": null,
   "id": "ec557ffd",
   "metadata": {},
   "outputs": [],
   "source": []
  }
 ],
 "metadata": {
  "kernelspec": {
   "display_name": "Python 3 (ipykernel)",
   "language": "python",
   "name": "python3"
  },
  "language_info": {
   "codemirror_mode": {
    "name": "ipython",
    "version": 3
   },
   "file_extension": ".py",
   "mimetype": "text/x-python",
   "name": "python",
   "nbconvert_exporter": "python",
   "pygments_lexer": "ipython3",
   "version": "3.11.5"
  },
  "toc": {
   "base_numbering": 1,
   "nav_menu": {},
   "number_sections": false,
   "sideBar": false,
   "skip_h1_title": true,
   "title_cell": "Table of Contents",
   "title_sidebar": "Contents",
   "toc_cell": false,
   "toc_position": {},
   "toc_section_display": true,
   "toc_window_display": false
  }
 },
 "nbformat": 4,
 "nbformat_minor": 5
}
